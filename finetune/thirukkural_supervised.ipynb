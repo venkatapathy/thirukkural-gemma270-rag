{
 "cells": [
  {
   "cell_type": "code",
   "execution_count": 6,
   "id": "8c821b4f",
   "metadata": {},
   "outputs": [],
   "source": [
    "import pandas as pd\n",
    "\n",
    "file_path = 'thirukkural_multi_language.xlsx'\n",
    "\n",
    "tamil_df = pd.read_excel(file_path, sheet_name='Tamil')\n",
    "english_df = pd.read_excel(file_path, sheet_name='English')\n",
    "hindi_df = pd.read_excel(file_path, sheet_name='Only Hindi- English Format')\n",
    "\n",
    "output_lines = []\n",
    "for idx in range(len(tamil_df)):\n",
    "    kural_id = tamil_df.loc[idx, 'Kural no']\n",
    "    \n",
    "    tamil_line = str(tamil_df.loc[idx, 'Line 1']).strip() + \" \" + str(tamil_df.loc[idx, 'Line 2']).strip()\n",
    "    english_line = str(english_df.loc[idx, 'Translation  Line']).strip()\n",
    "    hindi_line = str(hindi_df.loc[idx, 'Explanation']).strip() \n",
    "\n",
    "    explanation_line = str(english_df.loc[idx, 'Translation  Line']).strip() \n",
    "\n",
    "    text_block = f\"\"\"<kural_id>: {kural_id}\n",
    "Tamil: {tamil_line}\n",
    "English: {english_line}\n",
    "Hindi: {hindi_line}\n",
    "Explanation: {explanation_line}\n",
    "\n",
    "\"\"\"\n",
    "    output_lines.append(text_block)\n",
    "\n",
    "with open('thirukkural_plain_text.txt', 'w', encoding='utf-8') as f:\n",
    "    f.writelines(output_lines)\n"
   ]
  },
  {
   "cell_type": "code",
   "execution_count": null,
   "id": "a773d75a",
   "metadata": {},
   "outputs": [],
   "source": [
    "from transformers import AutoTokenizer, AutoModelForCausalLM, DataCollatorForLanguageModeling, Trainer, TrainingArguments\n",
    "from datasets import load_dataset\n",
    "\n",
    "model_name = \"google/gemma-3-270m\"\n",
    "tokenizer = AutoTokenizer.from_pretrained(model_name)\n",
    "model = AutoModelForCausalLM.from_pretrained(model_name)\n",
    "\n",
    "dataset = load_dataset('text', data_files={'train': 'thirukkural_train.txt'})\n",
    "\n",
    "def tokenize_fn(examples):\n",
    "    return tokenizer(examples['text'], truncation=True, max_length=512)\n",
    "\n",
    "tokenized_dataset = dataset.map(tokenize_fn, batched=True)\n",
    "\n",
    "data_collator = DataCollatorForLanguageModeling(tokenizer=tokenizer, mlm=False)\n",
    "\n",
    "training_args = TrainingArguments(\n",
    "    output_dir=\"./gemma3-thirukkural-sft\",\n",
    "    per_device_train_batch_size=4,\n",
    "    num_train_epochs=5,\n",
    "    logging_steps=100,\n",
    "    save_steps=500,\n",
    "    evaluation_strategy=\"no\",\n",
    "    save_total_limit=2,\n",
    "    learning_rate=5e-5,\n",
    ")\n",
    "\n",
    "\n",
    "trainer = Trainer(\n",
    "    model=model,\n",
    "    args=training_args,\n",
    "    train_dataset=tokenized_dataset['train'],\n",
    "    data_collator=data_collator,\n",
    ")\n",
    "\n",
    "trainer.train()\n"
   ]
  }
 ],
 "metadata": {
  "kernelspec": {
   "display_name": "Python 3",
   "language": "python",
   "name": "python3"
  },
  "language_info": {
   "codemirror_mode": {
    "name": "ipython",
    "version": 3
   },
   "file_extension": ".py",
   "mimetype": "text/x-python",
   "name": "python",
   "nbconvert_exporter": "python",
   "pygments_lexer": "ipython3",
   "version": "3.11.9"
  }
 },
 "nbformat": 4,
 "nbformat_minor": 5
}
