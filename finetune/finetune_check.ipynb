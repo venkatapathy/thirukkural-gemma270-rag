{
 "cells": [
  {
   "cell_type": "markdown",
   "id": "2d87d8ec",
   "metadata": {},
   "source": [
    "GPU check"
   ]
  },
  {
   "cell_type": "code",
   "execution_count": 2,
   "id": "656199fc",
   "metadata": {},
   "outputs": [
    {
     "name": "stdout",
     "output_type": "stream",
     "text": [
      "Wed Aug 27 18:43:40 2025       \n",
      "+-----------------------------------------------------------------------------------------+\n",
      "| NVIDIA-SMI 561.19                 Driver Version: 561.19         CUDA Version: 12.6     |\n",
      "|-----------------------------------------+------------------------+----------------------+\n",
      "| GPU  Name                  Driver-Model | Bus-Id          Disp.A | Volatile Uncorr. ECC |\n",
      "| Fan  Temp   Perf          Pwr:Usage/Cap |           Memory-Usage | GPU-Util  Compute M. |\n",
      "|                                         |                        |               MIG M. |\n",
      "|=========================================+========================+======================|\n",
      "|   0  NVIDIA GeForce RTX 3050 ...  WDDM  |   00000000:01:00.0 Off |                  N/A |\n",
      "| N/A   42C    P3             12W /   30W |       0MiB /   4096MiB |      0%      Default |\n",
      "|                                         |                        |                  N/A |\n",
      "+-----------------------------------------+------------------------+----------------------+\n",
      "                                                                                         \n",
      "+-----------------------------------------------------------------------------------------+\n",
      "| Processes:                                                                              |\n",
      "|  GPU   GI   CI        PID   Type   Process name                              GPU Memory |\n",
      "|        ID   ID                                                               Usage      |\n",
      "|=========================================================================================|\n",
      "|  No running processes found                                                             |\n",
      "+-----------------------------------------------------------------------------------------+\n"
     ]
    }
   ],
   "source": [
    "!nvidia-smi"
   ]
  },
  {
   "cell_type": "code",
   "execution_count": null,
   "id": "86526a70",
   "metadata": {},
   "outputs": [],
   "source": [
    "!pip install -q diffusers transformers accelerate peft"
   ]
  },
  {
   "cell_type": "code",
   "execution_count": null,
   "id": "0fc9c6a5",
   "metadata": {},
   "outputs": [],
   "source": [
    "import os\n",
    "os.environ['CUDA_LAUNCH_BLOCKING'] = \"1\"\n",
    "import torch\n",
    "from datasets import load_dataset\n",
    "from transformers import (\n",
    "    AutoTokenizer,\n",
    "    AutoModelForCausalLM,\n",
    "    DataCollatorForLanguageModeling,\n",
    "    TrainingArguments,\n",
    "    Trainer,\n",
    "    BitsAndBytesConfig,\n",
    "    TrainerCallback,\n",
    "    logging\n",
    ")\n",
    "from torch.nn import functional as F\n",
    "from peft import get_peft_model, LoraConfig, prepare_model_for_kbit_training\n",
    "from huggingface_hub import login\n",
    "\n",
    "logger = logging.get_logger(__name__)"
   ]
  },
  {
   "cell_type": "code",
   "execution_count": null,
   "id": "d8d33293",
   "metadata": {},
   "outputs": [],
   "source": [
    "q_lora = False\n",
    "lora_r, lora_alpha, lora_dropout = 8, 16, 0.05\n",
    "brevity_B, brevity_lambda = 10, 0.1\n",
    "\n",
    "model_path = \"gemma_model\"\n",
    "tokenizer_path = \"gemma_tokenizer\"\n",
    "dataset_path = \"/content/100_sample_query_finetuning.csv\"\n",
    "output_dir = \"./gemma-lora-finetuned\""
   ]
  },
  {
   "cell_type": "code",
   "execution_count": null,
   "id": "138a7b96",
   "metadata": {},
   "outputs": [],
   "source": [
    "# If loading from huggingface\n",
    "login(token= os.getenv(\"hf_token\"))\n",
    "tokenizer = AutoTokenizer.from_pretrained(\"google/gemma-3-270m\", use_fast=True)\n",
    "\n",
    "if qlora:\n",
    "    bnb_config = BitsAndBytesConfig(load_in_4bit=True, bnb_4bit_quant_type=\"nf4\", bnb_4bit_compute_dtype=torch.bfloat16)\n",
    "    model = AutoModelForCausalLM.from_pretrained(\"google/gemma-3-270m\", quantization_config=bnb_config, device_map=\"auto\")\n",
    "    model = prepare_model_for_kbit_training(model)\n",
    "else:\n",
    "    model = AutoModelForCausalLM.from_pretrained(\"google/gemma-3-270m\", torch_dtype=torch.bfloat16, device_map=\"auto\", attn_implementation='eager')"
   ]
  },
  {
   "cell_type": "code",
   "execution_count": null,
   "id": "3631ec70",
   "metadata": {},
   "outputs": [],
   "source": [
    "tokenizer = AutoTokenizer.from_pretrained(tokenizer_path, use_fast=True)\n",
    "if q_lora:\n",
    "    bnb_config = BitsAndBytesConfig(load_in_4bit=True, bnb_4bit_quant_type=\"nf4\", bnb_4bit_compute_dtype=torch.bfloat16)\n",
    "    model = AutoModelForCausalLM.from_pretrained(model_path, quantization_config=bnb_config, device_map=\"auto\")\n",
    "    model = prepare_model_for_kbit_training(model)\n",
    "else:\n",
    "    model = AutoModelForCausalLM.from_pretrained(model_path, torch_dtype=torch.bfloat16, device_map=\"auto\")"
   ]
  },
  {
   "cell_type": "code",
   "execution_count": null,
   "id": "ad93aedd",
   "metadata": {},
   "outputs": [],
   "source": [
    "ds = load_dataset(\"csv\", data_files=dataset_path)\n",
    "dataset = ds[\"train\"]\n",
    "dataset = dataset.remove_columns([col for col in dataset.column_names if col not in [\"query\", \"answer\", \"theme\"]])"
   ]
  },
  {
   "cell_type": "code",
   "execution_count": null,
   "id": "82fcd12c",
   "metadata": {},
   "outputs": [],
   "source": [
    "def build_prompt(ex):\n",
    "    prompt = f\"Query: {ex['query']}\\nAnswer:\"\n",
    "    full = f\"Query: {ex['query']}\\nAnswer: {ex['answer']}\"\n",
    "    return prompt, full\n",
    "\n",
    "def preprocess(ex):\n",
    "    prompt, full = build_prompt(ex)\n",
    "\n",
    "    prompt_ids_len = len(tokenizer(prompt, truncation=True, max_length=512)[\"input_ids\"])\n",
    "\n",
    "    full_enc = tokenizer(\n",
    "        full,\n",
    "        truncation=True,\n",
    "        padding=\"max_length\",\n",
    "        max_length=512,\n",
    "    )\n",
    "\n",
    "    labels = full_enc[\"input_ids\"].copy()\n",
    "    labels[:prompt_ids_len] = [-100] * prompt_ids_len\n",
    "\n",
    "    full_enc[\"labels\"] = labels\n",
    "    return full_enc\n",
    "\n",
    "if tokenizer.pad_token is None:\n",
    "    tokenizer.add_special_tokens({\"pad_token\": \"<pad>\"})\n",
    "\n",
    "model.resize_token_embeddings(len(tokenizer))\n",
    "\n",
    "tokenized_ds = ds[\"train\"].map(preprocess, remove_columns=ds[\"train\"].column_names)\n",
    "\n",
    "target_modules = [\"q_proj\", \"k_proj\", \"v_proj\", \"o_proj\", \"up_proj\", \"down_proj\"]\n",
    "config = LoraConfig(r=lora_r, lora_alpha=lora_alpha, target_modules=target_modules, lora_dropout=lora_dropout, task_type=\"CAUSAL_LM\")\n",
    "model = get_peft_model(model, config)\n",
    "\n",
    "data_collator = DataCollatorForLanguageModeling(tokenizer=tokenizer, mlm=False)"
   ]
  },
  {
   "cell_type": "code",
   "execution_count": null,
   "id": "96ce2951",
   "metadata": {},
   "outputs": [],
   "source": [
    "class CustomTrainer(Trainer):\n",
    "    def compute_loss(self, model, inputs, return_outputs=False, **kwargs):\n",
    "        labels = inputs.get(\"labels\")\n",
    "        outputs = model(**inputs)\n",
    "        ce_loss = outputs.loss\n",
    "        logits = outputs.logits\n",
    "\n",
    "        total_loss = ce_loss\n",
    "        brevity_loss = torch.tensor(0.0).to(ce_loss.device)\n",
    "        if self.is_in_train and labels is not None:\n",
    "            answer_lengths = (labels != -100).sum(dim=1)\n",
    "            penalty = brevity_lambda * torch.clamp(answer_lengths.float() - brevity_B, min=0)\n",
    "            brevity_loss = penalty.mean()\n",
    "            total_loss = ce_loss + brevity_loss\n",
    "\n",
    "        preds = torch.argmax(logits, dim=-1)\n",
    "\n",
    "        mask = labels != -100\n",
    "        correct = (preds[mask] == labels[mask]).float().mean().item()\n",
    "        cfs = correct  # in [0,1]\n",
    "\n",
    "        probs = F.softmax(logits, dim=-1)\n",
    "        pred_emb = probs.mean(dim=1)  \n",
    "        label_onehot = F.one_hot(torch.clamp(labels, min=0), num_classes=probs.size(-1)).float()\n",
    "        label_emb = label_onehot.mean(dim=1)\n",
    "        sim = F.cosine_similarity(pred_emb, label_emb).mean().item()\n",
    "        mci = sim\n",
    "\n",
    "        unique_tokens = torch.unique(preds)\n",
    "        cgvr = len(unique_tokens) / (preds.numel() + 1e-8)\n",
    "\n",
    "        self.log({\n",
    "            \"loss\": total_loss.item(),\n",
    "            \"ce_loss\": ce_loss.item(),\n",
    "            \"brevity_loss\": brevity_loss.item(),\n",
    "            \"cfs\": cfs,\n",
    "            \"mci\": mci,\n",
    "            \"cgvr\": cgvr\n",
    "        })\n",
    "\n",
    "        return (total_loss, outputs) if return_outputs else total_loss\n"
   ]
  },
  {
   "cell_type": "code",
   "execution_count": null,
   "id": "f1f86f3b",
   "metadata": {},
   "outputs": [],
   "source": [
    "class CustomLogCallback(TrainerCallback):\n",
    "    def __init__(self, log_file_path):\n",
    "        self.log_file_path = log_file_path\n",
    "        # Ensure directory exists\n",
    "        os.makedirs(os.path.dirname(log_file_path), exist_ok=True)\n",
    "        # Clear log file at the start of training\n",
    "        with open(self.log_file_path, \"w\") as f:\n",
    "            f.write(\"Custom Training Logs\\n\" + \"=\"*22 + \"\\n\")\n",
    "\n",
    "    def on_log(self, args, state, control, logs=None, **kwargs):\n",
    "        if logs is not None:\n",
    "            with open(self.log_file_path, \"a\") as f:\n",
    "                log_str = f\"Step: {state.global_step}, Loss: {logs.get('loss', 'N/A')}, CE Loss: {logs.get('ce_loss', 'N/A')}, Brevity Loss: {logs.get('brevity_loss', 'N/A')}, LR: {logs.get('learning_rate', 'N/A')}\\n\"\n",
    "                f.write(log_str)"
   ]
  },
  {
   "cell_type": "code",
   "execution_count": null,
   "id": "8ef5963b",
   "metadata": {},
   "outputs": [],
   "source": [
    "custom_log_path = os.path.join(output_dir, \"custom_metrics.log\")\n",
    "custom_logger = CustomLogCallback(log_file_path=custom_log_path)\n",
    "\n",
    "\n",
    "args = TrainingArguments(\n",
    "    output_dir=output_dir,\n",
    "    num_train_epochs=3,\n",
    "    per_device_train_batch_size=2,  \n",
    "    gradient_accumulation_steps=8, \n",
    "    learning_rate=2e-4,\n",
    "    fp16=True,\n",
    "    logging_steps=50,\n",
    "    save_strategy=\"steps\",\n",
    "    save_steps=50,\n",
    "    save_total_limit=3,\n",
    "    remove_unused_columns=False,\n",
    "    report_to=\"tensorboard\"          #tensorboard --logdir gemma-lora-finetuned/runs  # to check the logs in tensorboard\n",
    ")\n",
    "trainer = CustomTrainer(\n",
    "    model=model,\n",
    "    args=args,\n",
    "    train_dataset=tokenized_ds,\n",
    "    tokenizer=tokenizer,\n",
    "    data_collator=data_collator,\n",
    "    callbacks=[custom_logger]\n",
    ")"
   ]
  },
  {
   "cell_type": "code",
   "execution_count": null,
   "id": "669eadee",
   "metadata": {},
   "outputs": [],
   "source": [
    "trainer.train()"
   ]
  },
  {
   "cell_type": "code",
   "execution_count": null,
   "id": "c3b7b0d5",
   "metadata": {},
   "outputs": [],
   "source": [
    "model.save_pretrained(output_dir)\n",
    "tokenizer.save_pretrained(output_dir)"
   ]
  }
 ],
 "metadata": {
  "kernelspec": {
   "display_name": "cudakernel",
   "language": "python",
   "name": "cuda"
  },
  "language_info": {
   "codemirror_mode": {
    "name": "ipython",
    "version": 3
   },
   "file_extension": ".py",
   "mimetype": "text/x-python",
   "name": "python",
   "nbconvert_exporter": "python",
   "pygments_lexer": "ipython3",
   "version": "3.11.9"
  }
 },
 "nbformat": 4,
 "nbformat_minor": 5
}
