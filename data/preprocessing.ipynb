<<<<<<< HEAD
{
  "nbformat": 4,
  "nbformat_minor": 0,
  "metadata": {
    "colab": {
      "provenance": []
    },
    "kernelspec": {
      "name": "python3",
      "display_name": "Python 3"
    },
    "language_info": {
      "name": "python"
    }
  },
  "cells": [
    {
      "cell_type": "code",
      "execution_count": 2,
      "metadata": {
        "colab": {
          "base_uri": "https://localhost:8080/"
        },
        "id": "jyEf6ltt9iDA",
        "outputId": "5479e3ba-7c1b-44dd-8a4a-fd560c308dd8"
      },
      "outputs": [
        {
          "output_type": "stream",
          "name": "stdout",
          "text": [
            "✅ Corpus saved as thirukkural_corpus.json with 1329 entries.\n"
          ]
        }
      ],
      "source": [
        "import pandas as pd\n",
        "import json\n",
        "\n",
        "file_path = \"thirukkural_multi_language.xlsx\"\n",
        "\n",
        "tamil_df = pd.read_excel(file_path, sheet_name=\"Tamil\")\n",
        "english_df = pd.read_excel(file_path, sheet_name=\"English\")\n",
        "hindi_df = pd.read_excel(file_path, sheet_name=\"Hindi\")\n",
        "\n",
        "tamil_df = tamil_df.rename(columns={\"Kural no\": \"kural_id\"})\n",
        "english_df = english_df.rename(columns={\"kural no\": \"kural_id\"})\n",
        "hindi_df = hindi_df.rename(columns={\"g\": \"kural_id\"})\n",
        "\n",
        "merged = pd.merge(tamil_df, english_df, on=\"kural_id\", suffixes=(\"_ta\", \"_en\"))\n",
        "merged = pd.merge(merged, hindi_df, on=\"kural_id\", suffixes=(\"\", \"_hi\"))\n",
        "\n",
        "corpus = []\n",
        "for _, row in merged.iterrows():\n",
        "    entry = {\n",
        "        \"kural_id\": int(row[\"kural_id\"]),\n",
        "        \"tamil\": {\n",
        "            \"line1\": str(row.get(\"Line 1_ta\", \"\")),\n",
        "            \"line2\": str(row.get(\"Line 2_ta\", \"\")),\n",
        "            \"paal\": str(row.get(\"Paal_ta\", \"\")),\n",
        "            \"iyal\": str(row.get(\"Iyal_ta\", \"\")),\n",
        "            \"adhigaram\": str(row.get(\"Adhigaram_ta\", \"\"))\n",
        "        },\n",
        "        \"english\": {\n",
        "            \"line1\": str(row.get(\"Line 1_en\", \"\")),\n",
        "            \"line2\": str(row.get(\"Line 2_en\", \"\")),\n",
        "            \"translation\": str(row.get(\"Translation\", \"\")),\n",
        "            \"paal\": str(row.get(\"Paal_en\", \"\")),\n",
        "            \"iyal\": str(row.get(\"Iyal_en\", \"\")),\n",
        "            \"adhigaram\": str(row.get(\"Adhigaram_en\", \"\"))\n",
        "        },\n",
        "        \"hindi\": {\n",
        "            \"explanation\": str(row.get(\"Explanation\", \"\")),\n",
        "            \"paal\": str(row.get(\"Hindi Paal\", \"\")),\n",
        "            \"iyal\": str(row.get(\"Hindi Iyal\", \"\")),\n",
        "            \"adhigaram\": str(row.get(\"Himdi  Adhigaram\", \"\"))\n",
        "        }\n",
        "    }\n",
        "    corpus.append(entry)\n",
        "\n",
        "\n",
        "output_path = \"thirukkural_corpus.json\"\n",
        "with open(output_path, \"w\", encoding=\"utf-8\") as f:\n",
        "    json.dump(corpus, f, ensure_ascii=False, indent=2)\n",
        "\n",
        "print(f\"✅ Corpus saved as {output_path} with {len(corpus)} entries.\")\n"
      ]
    },
    {
      "cell_type": "code",
      "source": [
        "!pip install elasticsearch"
      ],
      "metadata": {
        "colab": {
          "base_uri": "https://localhost:8080/"
        },
        "id": "LIBX3eMHG6xG",
        "outputId": "f1110263-797f-4a9f-ea9f-793b8b978c05"
      },
      "execution_count": 7,
      "outputs": [
        {
          "output_type": "stream",
          "name": "stdout",
          "text": [
            "Requirement already satisfied: elasticsearch in /usr/local/lib/python3.12/dist-packages (9.1.0)\n",
            "Requirement already satisfied: elastic-transport<10,>=9.1.0 in /usr/local/lib/python3.12/dist-packages (from elasticsearch) (9.1.0)\n",
            "Requirement already satisfied: python-dateutil in /usr/local/lib/python3.12/dist-packages (from elasticsearch) (2.9.0.post0)\n",
            "Requirement already satisfied: typing-extensions in /usr/local/lib/python3.12/dist-packages (from elasticsearch) (4.14.1)\n",
            "Requirement already satisfied: urllib3<3,>=1.26.2 in /usr/local/lib/python3.12/dist-packages (from elastic-transport<10,>=9.1.0->elasticsearch) (2.5.0)\n",
            "Requirement already satisfied: certifi in /usr/local/lib/python3.12/dist-packages (from elastic-transport<10,>=9.1.0->elasticsearch) (2025.8.3)\n",
            "Requirement already satisfied: six>=1.5 in /usr/local/lib/python3.12/dist-packages (from python-dateutil->elasticsearch) (1.17.0)\n"
          ]
        }
      ]
    },
    {
      "cell_type": "code",
      "source": [
        "!pip install  rank_bm25"
      ],
      "metadata": {
        "colab": {
          "base_uri": "https://localhost:8080/"
        },
        "id": "KwvlB0mcHG8K",
        "outputId": "dc04ed5f-8776-453c-9515-c59f5f566a5d"
      },
      "execution_count": 5,
      "outputs": [
        {
          "output_type": "stream",
          "name": "stdout",
          "text": [
            "Collecting rank_bm25\n",
            "  Downloading rank_bm25-0.2.2-py3-none-any.whl.metadata (3.2 kB)\n",
            "Requirement already satisfied: numpy in /usr/local/lib/python3.12/dist-packages (from rank_bm25) (2.0.2)\n",
            "Downloading rank_bm25-0.2.2-py3-none-any.whl (8.6 kB)\n",
            "Installing collected packages: rank_bm25\n",
            "Successfully installed rank_bm25-0.2.2\n"
          ]
        }
      ]
    }
  ]
=======
{
  "nbformat": 4,
  "nbformat_minor": 0,
  "metadata": {
    "colab": {
      "provenance": []
    },
    "kernelspec": {
      "name": "python3",
      "display_name": "Python 3"
    },
    "language_info": {
      "name": "python"
    }
  },
  "cells": [
    {
      "cell_type": "code",
      "execution_count": 2,
      "metadata": {
        "colab": {
          "base_uri": "https://localhost:8080/"
        },
        "id": "jyEf6ltt9iDA",
        "outputId": "5479e3ba-7c1b-44dd-8a4a-fd560c308dd8"
      },
      "outputs": [
        {
          "output_type": "stream",
          "name": "stdout",
          "text": [
            "✅ Corpus saved as thirukkural_corpus.json with 1329 entries.\n"
          ]
        }
      ],
      "source": [
        "import pandas as pd\n",
        "import json\n",
        "\n",
        "file_path = \"thirukkural_multi_language.xlsx\"\n",
        "\n",
        "tamil_df = pd.read_excel(file_path, sheet_name=\"Tamil\")\n",
        "english_df = pd.read_excel(file_path, sheet_name=\"English\")\n",
        "hindi_df = pd.read_excel(file_path, sheet_name=\"Hindi\")\n",
        "\n",
        "tamil_df = tamil_df.rename(columns={\"Kural no\": \"kural_id\"})\n",
        "english_df = english_df.rename(columns={\"kural no\": \"kural_id\"})\n",
        "hindi_df = hindi_df.rename(columns={\"g\": \"kural_id\"})\n",
        "\n",
        "merged = pd.merge(tamil_df, english_df, on=\"kural_id\", suffixes=(\"_ta\", \"_en\"))\n",
        "merged = pd.merge(merged, hindi_df, on=\"kural_id\", suffixes=(\"\", \"_hi\"))\n",
        "\n",
        "corpus = []\n",
        "for _, row in merged.iterrows():\n",
        "    entry = {\n",
        "        \"kural_id\": int(row[\"kural_id\"]),\n",
        "        \"tamil\": {\n",
        "            \"line1\": str(row.get(\"Line 1_ta\", \"\")),\n",
        "            \"line2\": str(row.get(\"Line 2_ta\", \"\")),\n",
        "            \"paal\": str(row.get(\"Paal_ta\", \"\")),\n",
        "            \"iyal\": str(row.get(\"Iyal_ta\", \"\")),\n",
        "            \"adhigaram\": str(row.get(\"Adhigaram_ta\", \"\"))\n",
        "        },\n",
        "        \"english\": {\n",
        "            \"line1\": str(row.get(\"Line 1_en\", \"\")),\n",
        "            \"line2\": str(row.get(\"Line 2_en\", \"\")),\n",
        "            \"translation\": str(row.get(\"Translation\", \"\")),\n",
        "            \"paal\": str(row.get(\"Paal_en\", \"\")),\n",
        "            \"iyal\": str(row.get(\"Iyal_en\", \"\")),\n",
        "            \"adhigaram\": str(row.get(\"Adhigaram_en\", \"\"))\n",
        "        },\n",
        "        \"hindi\": {\n",
        "            \"explanation\": str(row.get(\"Explanation\", \"\")),\n",
        "            \"paal\": str(row.get(\"Hindi Paal\", \"\")),\n",
        "            \"iyal\": str(row.get(\"Hindi Iyal\", \"\")),\n",
        "            \"adhigaram\": str(row.get(\"Himdi  Adhigaram\", \"\"))\n",
        "        }\n",
        "    }\n",
        "    corpus.append(entry)\n",
        "\n",
        "\n",
        "output_path = \"thirukkural_corpus.json\"\n",
        "with open(output_path, \"w\", encoding=\"utf-8\") as f:\n",
        "    json.dump(corpus, f, ensure_ascii=False, indent=2)\n",
        "\n",
        "print(f\"✅ Corpus saved as {output_path} with {len(corpus)} entries.\")\n"
      ]
    },
    {
      "cell_type": "code",
      "source": [
        "!pip install elasticsearch"
      ],
      "metadata": {
        "colab": {
          "base_uri": "https://localhost:8080/"
        },
        "id": "LIBX3eMHG6xG",
        "outputId": "f1110263-797f-4a9f-ea9f-793b8b978c05"
      },
      "execution_count": 7,
      "outputs": [
        {
          "output_type": "stream",
          "name": "stdout",
          "text": [
            "Requirement already satisfied: elasticsearch in /usr/local/lib/python3.12/dist-packages (9.1.0)\n",
            "Requirement already satisfied: elastic-transport<10,>=9.1.0 in /usr/local/lib/python3.12/dist-packages (from elasticsearch) (9.1.0)\n",
            "Requirement already satisfied: python-dateutil in /usr/local/lib/python3.12/dist-packages (from elasticsearch) (2.9.0.post0)\n",
            "Requirement already satisfied: typing-extensions in /usr/local/lib/python3.12/dist-packages (from elasticsearch) (4.14.1)\n",
            "Requirement already satisfied: urllib3<3,>=1.26.2 in /usr/local/lib/python3.12/dist-packages (from elastic-transport<10,>=9.1.0->elasticsearch) (2.5.0)\n",
            "Requirement already satisfied: certifi in /usr/local/lib/python3.12/dist-packages (from elastic-transport<10,>=9.1.0->elasticsearch) (2025.8.3)\n",
            "Requirement already satisfied: six>=1.5 in /usr/local/lib/python3.12/dist-packages (from python-dateutil->elasticsearch) (1.17.0)\n"
          ]
        }
      ]
    },
    {
      "cell_type": "code",
      "source": [
        "!pip install  rank_bm25"
      ],
      "metadata": {
        "colab": {
          "base_uri": "https://localhost:8080/"
        },
        "id": "KwvlB0mcHG8K",
        "outputId": "dc04ed5f-8776-453c-9515-c59f5f566a5d"
      },
      "execution_count": 5,
      "outputs": [
        {
          "output_type": "stream",
          "name": "stdout",
          "text": [
            "Collecting rank_bm25\n",
            "  Downloading rank_bm25-0.2.2-py3-none-any.whl.metadata (3.2 kB)\n",
            "Requirement already satisfied: numpy in /usr/local/lib/python3.12/dist-packages (from rank_bm25) (2.0.2)\n",
            "Downloading rank_bm25-0.2.2-py3-none-any.whl (8.6 kB)\n",
            "Installing collected packages: rank_bm25\n",
            "Successfully installed rank_bm25-0.2.2\n"
          ]
        }
      ]
    }
  ]
>>>>>>> upstream/main
}